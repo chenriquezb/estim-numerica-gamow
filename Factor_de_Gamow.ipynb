{
  "nbformat": 4,
  "nbformat_minor": 0,
  "metadata": {
    "colab": {
      "name": "Factor de Gamow",
      "provenance": [],
      "collapsed_sections": []
    },
    "kernelspec": {
      "name": "python3",
      "display_name": "Python 3"
    }
  },
  "cells": [
    {
      "cell_type": "code",
      "metadata": {
        "id": "d5uQ6QKYcPXH"
      },
      "source": [
        "\"\"\"\n",
        "Solución factor de Gamow para átomo de Uranio-238\n",
        "\"\"\"\n",
        "\n",
        "import numpy as np\n",
        "import matplotlib.pyplot as plt\n",
        "from numpy.lib import scimath as SM\n",
        "\n",
        "m = 3662.634                   # Masa reducida sistema en MeV\n",
        "hbar = 197                     # hbar*c\n",
        "E = 4.27                       # energia particula alfa de U-235\n",
        "Z_th = 90    \n",
        "Z_alfa = 2                     # numero protones atomo elegido\n",
        "e = np.sqrt(hbar/137)          # carga electron\n",
        "\n",
        "r_a = 9.3 - 9.3                # 9.3 fm radio inicio de integracion en fm\n",
        "r_b = 60.616  - 9.3            # radio fin de integracion\n",
        "h = 0.1                        # paso para verlet\n",
        "r = np.arange(r_a, r_b, h)\n",
        "\n",
        "\n",
        "def potencial(r):\n",
        "    return Z_th * Z_alfa * e*e / (r + 9.3)\n",
        "\n",
        "\n",
        "def paso_verlet(h, phi_0, phi_1, r):\n",
        "  phi_2 = h**2 * 2*m/hbar**2 * (potencial(r)-E)*phi_1 + 2*phi_1 - phi_0\n",
        "  return phi_2\n",
        "\n",
        "\n",
        "def verlet(ci0, ci1, h, r):\n",
        "  verlet_array = np.zeros(len(r))\n",
        "  verlet_array[0] = ci0\n",
        "  verlet_array[1] = ci1\n",
        "  for i in range(2, len(r)):\n",
        "    verlet_array[i] = paso_verlet(h, verlet_array[i-2], verlet_array[i-1], r[i])\n",
        "  return verlet_array\n",
        "\n",
        "# Sol dentro de potencial  u = C*u1 + D*u2\n",
        "u1 = verlet(0, 0.1, h, r)\n",
        "u2 = verlet(0.1, 0.1, h, r)"
      ],
      "execution_count": null,
      "outputs": []
    },
    {
      "cell_type": "code",
      "metadata": {
        "colab": {
          "base_uri": "https://localhost:8080/",
          "height": 290
        },
        "id": "GYFQ3TtNX0iP",
        "outputId": "3ea032f7-4cd2-4988-b79a-8b6614ece2f0"
      },
      "source": [
        "# Visualizamos sol independientes de eq de onda.\n",
        "plt.figure()\n",
        "plt.clf()\n",
        "plt.plot(r, u1, label='u1(r)')\n",
        "plt.plot(r, u2, label='u2(r)')\n",
        "plt.xlabel('r [fm]')\n",
        "plt.ylabel('phi(r)')\n",
        "plt.legend()\n",
        "plt.show()"
      ],
      "execution_count": null,
      "outputs": [
        {
          "output_type": "display_data",
          "data": {
            "image/png": "[encoded data removed]",
            "text/plain": [
              "<Figure size 432x288 with 1 Axes>"
            ]
          },
          "metadata": {
            "tags": [],
            "needs_background": "light"
          }
        }
      ]
    },
    {
      "cell_type": "code",
      "metadata": {
        "id": "TApTl4HCYdFm"
      },
      "source": [
        "# Valores de las derivadas en bordes r=0 y r= r_b\n",
        "u1_dot0 = (u1[1] - u1[0]) / h\n",
        "u2_dot0 = (u2[1] - u2[0]) / h\n",
        "u1_dotR = (u1[-1] - u1[-2]) / h\n",
        "u2_dotR = (u2[-1] - u2[-2]) / h"
      ],
      "execution_count": null,
      "outputs": []
    },
    {
      "cell_type": "code",
      "metadata": {
        "id": "AhiVPsUvafD5"
      },
      "source": [
        "k1 = np.sqrt(2*m*E/hbar**2)\n",
        "v0 = 0.\n",
        "k3 = SM.sqrt((E-v0)*2*m/hbar**2)\n",
        "\n",
        "# Sistema de ecuaciones\n",
        "eq1 = np.array([1, 1, -u1[0], -u2[0], 0])\n",
        "eq2 = np.array([0, 0, u1[-1], u2[-1], -np.exp(k3*r_b*1j)])\n",
        "eq3 = np.array([k1*1j, -k1*1j, -u1_dot0, -u2_dot0, 0])\n",
        "eq4 = np.array([0, 0, u1_dotR, u2_dotR, -1j*k3*np.exp(k3*r_b*1j)])\n",
        "\n",
        "eq5 = np.array([0, 0, 0, 1, 0])   # eq auxiliar\n",
        "\n",
        "M = np.array([eq1, eq2, eq3, eq4, eq5])\n",
        "b = np.zeros(5)\n",
        "b[4] = 1       # imponemos valor sobre D para obtener razon\n",
        "\n",
        "sol = np.linalg.solve(M, b)"
      ],
      "execution_count": null,
      "outputs": []
    },
    {
      "cell_type": "code",
      "metadata": {
        "colab": {
          "base_uri": "https://localhost:8080/"
        },
        "id": "bhXtcKu0affl",
        "outputId": "76725b05-973c-4c8d-c732-2b71f64d033a"
      },
      "source": [
        "# sol = [A, B, C, D, F]\n",
        "A = sol[0]\n",
        "D = sol[3]\n",
        "razon = np.abs(D/A)**2\n",
        "print('Valor calculado de Factor de Gamow U-238:', round(razon, 2))\n",
        "print('Valor teorico de Factor de Gamow U-238: 85.8')"
      ],
      "execution_count": null,
      "outputs": [
        {
          "output_type": "stream",
          "text": [
            "Valor calculado de Factor de Gamow U-238: 75.79\n",
            "Valor teorico de Factor de Gamow U-238: 85.8\n"
          ],
          "name": "stdout"
        }
      ]
    },
    {
      "cell_type": "code",
      "metadata": {
        "id": "dklWoATg6Qtv",
        "colab": {
          "base_uri": "https://localhost:8080/",
          "height": 290
        },
        "outputId": "a24d8fe7-378d-4a67-8d40-ae022fc5c9df"
      },
      "source": [
        "# visualizacion funciones u1 y u2\n",
        "r = np.arange(r_a, r_b*2, h)\n",
        "u1 = verlet(0, 0.1, h, r)\n",
        "u2 = verlet(0.1, 0.1, h, r)\n",
        "plt.figure()\n",
        "plt.clf()\n",
        "plt.plot(r, u1, label='u1(r)')\n",
        "plt.plot(r, u2, label='u2(r)')\n",
        "plt.xlabel('r [fm]')\n",
        "plt.ylabel('phi(r)')\n",
        "plt.legend()\n",
        "plt.show()"
      ],
      "execution_count": null,
      "outputs": [
        {
          "output_type": "display_data",
          "data": {
            "image/png": "[encoded data removed]",
            "text/plain": [
              "<Figure size 432x288 with 1 Axes>"
            ]
          },
          "metadata": {
            "tags": [],
            "needs_background": "light"
          }
        }
      ]
    },
    {
      "cell_type": "code",
      "metadata": {
        "id": "qPk9ugssM5zU"
      },
      "source": [
        "A\n"
      ],
      "execution_count": null,
      "outputs": []
    },
    {
      "cell_type": "code",
      "metadata": {
        "id": "YE4EiaqXOayB"
      },
      "source": [
        "D"
      ],
      "execution_count": null,
      "outputs": []
    },
    {
      "cell_type": "code",
      "metadata": {
        "id": "dju6ZyAfObro"
      },
      "source": [
        ""
      ],
      "execution_count": null,
      "outputs": []
    }
  ]
}